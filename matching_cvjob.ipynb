{
 "cells": [
  {
   "cell_type": "code",
   "execution_count": null,
   "id": "aa0a1966",
   "metadata": {},
   "outputs": [
    {
     "name": "stderr",
     "output_type": "stream",
     "text": [
      "c:\\Hetic\\MD5\\DataApps_&_Automatisations\\project\\env\\Lib\\site-packages\\tqdm\\auto.py:21: TqdmWarning: IProgress not found. Please update jupyter and ipywidgets. See https://ipywidgets.readthedocs.io/en/stable/user_install.html\n",
      "  from .autonotebook import tqdm as notebook_tqdm\n",
      "c:\\Hetic\\MD5\\DataApps_&_Automatisations\\project\\env\\Lib\\site-packages\\huggingface_hub\\file_download.py:143: UserWarning: `huggingface_hub` cache-system uses symlinks by default to efficiently store duplicated files but your machine does not support them in C:\\Users\\hamza\\.cache\\huggingface\\hub\\models--sentence-transformers--all-MiniLM-L6-v2. Caching files will still work but in a degraded version that might require more space on your disk. This warning can be disabled by setting the `HF_HUB_DISABLE_SYMLINKS_WARNING` environment variable. For more details, see https://huggingface.co/docs/huggingface_hub/how-to-cache#limitations.\n",
      "To support symlinks on Windows, you either need to activate Developer Mode or to run Python as an administrator. In order to activate developer mode, see this article: https://docs.microsoft.com/en-us/windows/apps/get-started/enable-your-device-for-development\n",
      "  warnings.warn(message)\n",
      "Xet Storage is enabled for this repo, but the 'hf_xet' package is not installed. Falling back to regular HTTP download. For better performance, install the package with: `pip install huggingface_hub[hf_xet]` or `pip install hf_xet`\n"
     ]
    },
    {
     "name": "stdout",
     "output_type": "stream",
     "text": [
      "🔍 Top CVs after BM25 filtering + SBERT reranking:\n",
      "\n",
      "CV #2 | Semantic Score: 0.7536\n",
      "Full-stack developer proficient in Python, Django, RESTful services, PostgreSQL, and cloud deployment on AWS.\n",
      "------------------------------------------------------------\n",
      "CV #0 | Semantic Score: 0.7357\n",
      "Experienced backend engineer skilled in Python, Flask, and SQL databases. Worked with REST APIs and Docker.\n",
      "------------------------------------------------------------\n",
      "CV #3 | Semantic Score: 0.4527\n",
      "Data scientist with knowledge of Python, Pandas, machine learning, and data visualization tools.\n",
      "------------------------------------------------------------\n"
     ]
    }
   ],
   "source": [
    "from rank_bm25 import BM25Okapi\n",
    "from sentence_transformers import SentenceTransformer, util\n",
    "import numpy as np\n",
    "\n",
    "# Sample job description\n",
    "job_description = \"\"\"\n",
    "We are looking for a Python developer with experience in Django, REST APIs, and PostgreSQL. \n",
    "Knowledge of Docker and cloud platforms is a plus.\n",
    "\"\"\"\n",
    "\n",
    "# Sample CVs\n",
    "cv_texts = [\n",
    "    \"Experienced backend engineer skilled in Python, Flask, and SQL databases. Worked with REST APIs and Docker.\",\n",
    "    \"Frontend developer with expertise in React, JavaScript, and UI/UX design. No backend experience.\",\n",
    "    \"Full-stack developer proficient in Python, Django, RESTful services, PostgreSQL, and cloud deployment on AWS.\",\n",
    "    \"Data scientist with knowledge of Python, Pandas, machine learning, and data visualization tools.\",\n",
    "    \"DevOps engineer experienced with Docker, Kubernetes, CI/CD pipelines, and cloud infrastructure.\"\n",
    "]\n",
    "\n",
    "# -----------------------------\n",
    "\n",
    "# STEP 1: BM25 Filtering\n",
    "# -----------------------------\n",
    "tokenized_cvs = [cv.lower().split() for cv in cv_texts]\n",
    "bm25 = BM25Okapi(tokenized_cvs)\n",
    "\n",
    "job_tokens = job_description.lower().split()\n",
    "bm25_scores = bm25.get_scores(job_tokens)\n",
    "\n",
    "# Select top 3 candidates\n",
    "top_n = 3\n",
    "top_indices = np.argsort(bm25_scores)[::-1][:top_n]\n",
    "top_cv_texts = [cv_texts[i] for i in top_indices]\n",
    "\n",
    "# -----------------------------\n",
    "# STEP 2: SBERT Semantic Scoring\n",
    "# -----------------------------\n",
    "model = SentenceTransformer('all-MiniLM-L6-v2')\n",
    "job_embedding = model.encode(job_description, convert_to_tensor=True)\n",
    "cv_embeddings = model.encode(top_cv_texts, convert_to_tensor=True)\n",
    "\n",
    "# Compute semantic similarity\n",
    "cosine_scores = util.cos_sim(job_embedding, cv_embeddings)[0].cpu().numpy()\n",
    "\n",
    "# -----------------------------\n",
    "# STEP 3: Rerank by Semantic Score\n",
    "# -----------------------------\n",
    "reranked = sorted(\n",
    "    zip(top_indices, top_cv_texts, cosine_scores),\n",
    "    key=lambda x: x[2],\n",
    "    reverse=True\n",
    ")\n",
    "\n",
    "# Display final results\n",
    "print(\"🔍 Top CVs after BM25 filtering + SBERT reranking:\\n\")\n",
    "for idx, text, score in reranked:\n",
    "    print(f\"CV #{idx} | Semantic Score: {score:.4f}\\n{text}\\n{'-'*60}\")\n"
   ]
  },
  {
   "cell_type": "code",
   "execution_count": null,
   "id": "5095fe8e",
   "metadata": {},
   "outputs": [],
   "source": []
  }
 ],
 "metadata": {
  "kernelspec": {
   "display_name": "env",
   "language": "python",
   "name": "python3"
  },
  "language_info": {
   "codemirror_mode": {
    "name": "ipython",
    "version": 3
   },
   "file_extension": ".py",
   "mimetype": "text/x-python",
   "name": "python",
   "nbconvert_exporter": "python",
   "pygments_lexer": "ipython3",
   "version": "3.12.0"
  }
 },
 "nbformat": 4,
 "nbformat_minor": 5
}
